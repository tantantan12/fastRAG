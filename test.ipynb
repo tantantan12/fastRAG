{
 "cells": [
  {
   "cell_type": "markdown",
   "metadata": {},
   "source": [
    "# Creating pipeline.yaml"
   ]
  },
  {
   "cell_type": "code",
   "execution_count": 8,
   "metadata": {},
   "outputs": [],
   "source": [
    "!python3 scripts/generate_pipeline.py --path \"retriever,reranker,reader\" \\\n",
    "    --store config/store/wikipedia_w100_hfdataset.yaml \\\n",
    "    --retriever config/retriever/colbert-v2.yaml \\\n",
    "    --reranker config/reranker/sbert.yaml \\\n",
    "    --file pipeline.yaml"
   ]
  },
  {
   "cell_type": "markdown",
   "metadata": {},
   "source": [
    "wikipedia_w100_hfdataset.yaml was originally plaid-wiki.yaml\n",
    "\n",
    "What is the difference between store and data?"
   ]
  },
  {
   "cell_type": "markdown",
   "metadata": {},
   "source": [
    "# Index"
   ]
  },
  {
   "cell_type": "code",
   "execution_count": 6,
   "metadata": {},
   "outputs": [
    {
     "name": "stdout",
     "output_type": "stream",
     "text": [
      "Traceback (most recent call last):\n",
      "  File \"/Users/49280549/Documents/GitHub/fastRAG/scripts/indexing/create_elastic.py\", line 20, in <module>\n",
      "    store = init_haystack_cls(store_cls, store_params)\n",
      "  File \"/Users/49280549/Library/Python/3.9/lib/python/site-packages/fastrag/utils.py\", line 69, in init_haystack_cls\n",
      "    return BaseComponent._create_instance(component_name, parameters, name)\n",
      "NameError: name 'BaseComponent' is not defined\n"
     ]
    }
   ],
   "source": [
    "!python3 scripts/indexing/create_elastic.py \\\n",
    "    --store config/store/elastic-local.yaml \\\n",
    "    --data config/data/wikipedia_w100_hfdataset.yaml"
   ]
  },
  {
   "cell_type": "markdown",
   "metadata": {},
   "source": []
  }
 ],
 "metadata": {
  "kernelspec": {
   "display_name": "Python 3",
   "language": "python",
   "name": "python3"
  },
  "language_info": {
   "codemirror_mode": {
    "name": "ipython",
    "version": 3
   },
   "file_extension": ".py",
   "mimetype": "text/x-python",
   "name": "python",
   "nbconvert_exporter": "python",
   "pygments_lexer": "ipython3",
   "version": "3.9.6"
  }
 },
 "nbformat": 4,
 "nbformat_minor": 2
}
